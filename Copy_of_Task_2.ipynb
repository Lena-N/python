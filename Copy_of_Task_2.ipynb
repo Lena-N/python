{
  "nbformat": 4,
  "nbformat_minor": 0,
  "metadata": {
    "colab": {
      "provenance": [],
      "include_colab_link": true
    },
    "kernelspec": {
      "name": "python3",
      "display_name": "Python 3"
    },
    "language_info": {
      "name": "python"
    }
  },
  "cells": [
    {
      "cell_type": "markdown",
      "metadata": {
        "id": "view-in-github",
        "colab_type": "text"
      },
      "source": [
        "<a href=\"https://colab.research.google.com/github/Lena-N/python/blob/main/Copy_of_Task_2.ipynb\" target=\"_parent\"><img src=\"https://colab.research.google.com/assets/colab-badge.svg\" alt=\"Open In Colab\"/></a>"
      ]
    },
    {
      "cell_type": "markdown",
      "source": [
        "# Task 2\n",
        "## This is just a short exam to make sure that you are familiar with python.\n",
        "## Good Luck 🤗\n",
        "## AI Approach 💚"
      ],
      "metadata": {
        "id": "pvPphnc6YwMD"
      }
    },
    {
      "cell_type": "markdown",
      "source": [
        "### 1. Ask the user to enter first name and last name \n",
        "### then print 'Your Full name is : , fisrt name! last name' \n",
        "\n",
        "**Example:**\n",
        "\n",
        "user input first name : Mohammed\n",
        "user input last name : Sala\n",
        "\n",
        "Output: 'your full name is  Mohammed sala!\""
      ],
      "metadata": {
        "id": "6rzbHiq5BvWl"
      }
    },
    {
      "cell_type": "code",
      "source": [
        "#write the code here \n",
        "first_name=input(\"Enter your first name: \")\n",
        "last_name=input(\"enter your last name: \")\n",
        "print(\"your Full Name is: \"+first_name+\" \"+ last_name)\n"
      ],
      "metadata": {
        "id": "TCoVDZn9B8Q6",
        "colab": {
          "base_uri": "https://localhost:8080/"
        },
        "outputId": "7eb42d67-66c3-4898-a483-dfaf7028147f"
      },
      "execution_count": 2,
      "outputs": [
        {
          "output_type": "stream",
          "name": "stdout",
          "text": [
            "Enter your first name: Lena\n",
            "enter your last name: Nagi\n",
            "your Full Name is Lena Nagi\n"
          ]
        }
      ]
    },
    {
      "cell_type": "markdown",
      "source": [
        "###2. Ask the user to input the radius then calculate the area of a circle:\n",
        "####Hint: change the input type from string to float\n",
        "\n",
        "###Sample Output:\n",
        "\n",
        "####Radius = 1.1\n",
        "\n",
        "####Area = 3.7994000000000008"
      ],
      "metadata": {
        "id": "raBnnmxLDS1L"
      }
    },
    {
      "cell_type": "code",
      "source": [
        "PI=22/7\n",
        "Radius=float(input(\"Please enter the radius of the given circle:\"))\n",
        "Area=PI*Radius**2\n",
        "print(Area)"
      ],
      "metadata": {
        "id": "Yy_LmJ_DxUYV",
        "outputId": "d3094bea-01d1-4708-ded8-b3166cb2bb33",
        "colab": {
          "base_uri": "https://localhost:8080/"
        }
      },
      "execution_count": 5,
      "outputs": [
        {
          "output_type": "stream",
          "name": "stdout",
          "text": [
            "Please enter the radius of the given circle:1.1\n",
            "3.8028571428571434\n"
          ]
        }
      ]
    },
    {
      "cell_type": "code",
      "source": [
        "#Write code here \n"
      ],
      "metadata": {
        "colab": {
          "base_uri": "https://localhost:8080/"
        },
        "id": "PHqqHK3RDT5s",
        "outputId": "44678d5e-35f7-4790-ab1f-0f73e225111a"
      },
      "execution_count": null,
      "outputs": [
        {
          "output_type": "stream",
          "name": "stdout",
          "text": [
            "Please enter the radius of the given circle: 1.1\n",
            " The area of the given circle is:  3.7994000000000008\n"
          ]
        }
      ]
    },
    {
      "cell_type": "markdown",
      "source": [
        "###3. print ' AI approach club' from the given string.\n",
        "####greeting = \"Welcome to AI approach club!\n",
        "####Hint: use string slicing"
      ],
      "metadata": {
        "id": "F9K1M4UkET6e"
      }
    },
    {
      "cell_type": "code",
      "source": [
        "greeting = \"Welcome to AI approach club!\"\n",
        "greeting[10:-1]"
      ],
      "metadata": {
        "id": "6XEEkETtyZID",
        "outputId": "782a3932-8eb1-4278-8c33-1f559b43f250",
        "colab": {
          "base_uri": "https://localhost:8080/",
          "height": 35
        }
      },
      "execution_count": 9,
      "outputs": [
        {
          "output_type": "execute_result",
          "data": {
            "text/plain": [
              "' AI approach club'"
            ],
            "application/vnd.google.colaboratory.intrinsic+json": {
              "type": "string"
            }
          },
          "metadata": {},
          "execution_count": 9
        }
      ]
    },
    {
      "cell_type": "code",
      "source": [
        "#Write code here\n"
      ],
      "metadata": {
        "colab": {
          "base_uri": "https://localhost:8080/"
        },
        "id": "ZPytj7DgEV5v",
        "outputId": "7928ad76-2aff-4ee7-8122-b65ac68800a3"
      },
      "execution_count": null,
      "outputs": [
        {
          "output_type": "stream",
          "name": "stdout",
          "text": [
            "o AI approach club\n"
          ]
        }
      ]
    },
    {
      "cell_type": "markdown",
      "source": [
        "###4-\tOne line of code to delete duplicate values in the list?###4-\tOne line of code to delete duplicate values in the list?\n",
        "\n",
        "list=[1,2,2,3,2,3,4,5,6]\n",
        "\n",
        "output : [1,2,3,4,5,6]"
      ],
      "metadata": {
        "id": "3E8uJ0LPclwB"
      }
    },
    {
      "cell_type": "code",
      "source": [
        "list=[1,2,2,3,2,3,4,5,6]\n",
        "set(list)"
      ],
      "metadata": {
        "id": "tAqlZoTaz8PY",
        "outputId": "05eba349-c9a4-4a79-91a2-98ea0ba1175e",
        "colab": {
          "base_uri": "https://localhost:8080/"
        }
      },
      "execution_count": 10,
      "outputs": [
        {
          "output_type": "execute_result",
          "data": {
            "text/plain": [
              "{1, 2, 3, 4, 5, 6}"
            ]
          },
          "metadata": {},
          "execution_count": 10
        }
      ]
    },
    {
      "cell_type": "code",
      "source": [
        "#Write code here\n"
      ],
      "metadata": {
        "id": "VHqeqELeDHsA",
        "colab": {
          "base_uri": "https://localhost:8080/"
        },
        "outputId": "054f4c1f-e175-438f-b2ef-444a0760d3d8"
      },
      "execution_count": null,
      "outputs": [
        {
          "output_type": "stream",
          "name": "stdout",
          "text": [
            "[1, 2, 3, 4, 5, 6]\n"
          ]
        }
      ]
    },
    {
      "cell_type": "markdown",
      "source": [
        "### 6. Write a program to give the  student the final grade as the following:\n",
        "\n",
        "90 - 100 --> A\n",
        "\n",
        "80 - 89 --> B\n",
        "\n",
        "70 - 79 --> C\n",
        "\n",
        "50 - 69 --> D\n",
        "\n",
        "< 50 --> F\n",
        "\n",
        "####Hint: use if, elif, else"
      ],
      "metadata": {
        "id": "HNBj6w69crqo"
      }
    },
    {
      "cell_type": "code",
      "source": [
        "grade=int(input(\"Enter Your Grade : \"))\n",
        "def return_grade(grade):\n",
        "  if(grade>=90 and grade <=100):\n",
        "    return \"A\"\n",
        "  elif(grade>=80 and grade<=89):\n",
        "    return \"B\"\n",
        "  elif (grade>=70 and grade<=79):\n",
        "    return \"C\"\n",
        "  elif (garde>=50 and grade<=69):\n",
        "    return \"D\"\n",
        "  else:\n",
        "    return \"F\"\n",
        "print(return_grade(grade))"
      ],
      "metadata": {
        "id": "UEMYDuT52U7C",
        "outputId": "e282d666-50f7-4807-8816-4b4168569b66",
        "colab": {
          "base_uri": "https://localhost:8080/"
        }
      },
      "execution_count": 18,
      "outputs": [
        {
          "output_type": "stream",
          "name": "stdout",
          "text": [
            "Enter Your Grade : 83\n",
            "B\n"
          ]
        }
      ]
    },
    {
      "cell_type": "code",
      "source": [
        "#Write code here \n",
        "\n"
      ],
      "metadata": {
        "id": "y6EIxLknMEzZ"
      },
      "execution_count": 16,
      "outputs": []
    },
    {
      "cell_type": "markdown",
      "source": [
        "###6-\t Print characters from a string that are present at an even index number\n",
        "\n",
        "EX:\n",
        "\n",
        "\n",
        "```\n",
        "**Orginal** String is   AiapproachClub\n",
        "Printing only even index chars\n",
        "i\n",
        "p\n",
        "r\n",
        "a\n",
        "h\n",
        "l\n",
        "b\n",
        "\n",
        "```\n",
        "\n"
      ],
      "metadata": {
        "id": "NR339Do5c2rH"
      }
    },
    {
      "cell_type": "code",
      "source": [
        "string=\"AiapproachClub\"\n",
        "for i in range(len(string)):\n",
        "  if(i%2!=0):\n",
        "    print(string[i])"
      ],
      "metadata": {
        "id": "aPMTlUvq59CY",
        "outputId": "009d6529-1c66-4458-88d9-8a0dabc7b39c",
        "colab": {
          "base_uri": "https://localhost:8080/"
        }
      },
      "execution_count": 25,
      "outputs": [
        {
          "output_type": "stream",
          "name": "stdout",
          "text": [
            "i\n",
            "p\n",
            "r\n",
            "a\n",
            "h\n",
            "l\n",
            "b\n"
          ]
        }
      ]
    },
    {
      "cell_type": "code",
      "source": [
        "#Write code here\n"
      ],
      "metadata": {
        "id": "OdwhvIGBMNwR",
        "colab": {
          "base_uri": "https://localhost:8080/"
        },
        "outputId": "06aa3f8f-0c36-4e38-e73f-d2060ff56055"
      },
      "execution_count": null,
      "outputs": [
        {
          "output_type": "stream",
          "name": "stdout",
          "text": [
            " \n",
            "i\n",
            "p\n",
            "r\n",
            "a\n",
            "h\n",
            "l\n",
            "b\n"
          ]
        }
      ]
    },
    {
      "cell_type": "markdown",
      "source": [
        "###7- print first and last  element of numbers in  list\n",
        "list =[1,2,3,4,5]\n",
        "\n",
        "output ==> first num : 1\n",
        "\n",
        "output ==> last num : 5"
      ],
      "metadata": {
        "id": "_qPbFx6LMhJj"
      }
    },
    {
      "cell_type": "code",
      "source": [
        "list =[1,2,3,4,5]\n",
        "print(\"first num :\"+str(list[0]))\n",
        "print(\"last num :\"+str(list[len(list)-1]))"
      ],
      "metadata": {
        "id": "DBuSBtsf8CJd",
        "outputId": "f8e63326-d8f7-4a94-8cee-12c577f1bdf6",
        "colab": {
          "base_uri": "https://localhost:8080/"
        }
      },
      "execution_count": 28,
      "outputs": [
        {
          "output_type": "stream",
          "name": "stdout",
          "text": [
            "first num :1\n",
            "last num :5\n"
          ]
        }
      ]
    },
    {
      "cell_type": "code",
      "source": [
        "#Write code here\n"
      ],
      "metadata": {
        "id": "7Xm17WZ8MuuN",
        "colab": {
          "base_uri": "https://localhost:8080/"
        },
        "outputId": "3bf5603e-9309-4853-a9f6-018b2f768029"
      },
      "execution_count": null,
      "outputs": [
        {
          "output_type": "stream",
          "name": "stdout",
          "text": [
            " First Number is : 1\n",
            " Last Number is : 5\n"
          ]
        }
      ]
    },
    {
      "cell_type": "markdown",
      "source": [
        "###8- Add 35 between 3 and 4\n",
        "numbers=[1,2,3,4,5]"
      ],
      "metadata": {
        "id": "U1OltHz9NbWH"
      }
    },
    {
      "cell_type": "code",
      "source": [
        "numbers=[1,2,3,4,5]\n",
        "numbers.insert(3,35)\n",
        "numbers"
      ],
      "metadata": {
        "id": "qLqaEDzb-KlN",
        "outputId": "f1363333-8bf7-44c3-9889-ebe3c6fd7185",
        "colab": {
          "base_uri": "https://localhost:8080/"
        }
      },
      "execution_count": 29,
      "outputs": [
        {
          "output_type": "execute_result",
          "data": {
            "text/plain": [
              "[1, 2, 3, 35, 4, 5]"
            ]
          },
          "metadata": {},
          "execution_count": 29
        }
      ]
    },
    {
      "cell_type": "code",
      "source": [
        "#Write code here\n"
      ],
      "metadata": {
        "colab": {
          "base_uri": "https://localhost:8080/"
        },
        "id": "ZBq0Q9WTNlwb",
        "outputId": "7c9756a9-b6e9-4ae3-afdc-400502a00432"
      },
      "execution_count": null,
      "outputs": [
        {
          "output_type": "stream",
          "name": "stdout",
          "text": [
            "[1, 2, 3, 35, 4, 5]\n"
          ]
        }
      ]
    },
    {
      "cell_type": "markdown",
      "source": [
        "###9-Write a program to display only those numbers from a list that satisfy the following conditions\n",
        "list =[10,20,30,40,150,550,30]\n",
        "# conditions: \n",
        "```\n",
        "•\tThe number must be divisible by five\n",
        "•\tIf the number is greater than 150, then skip it and move to the next number\n",
        "•\tIf the number is greater than 500, then stop the loop\n",
        "```\n",
        "\n",
        "\n"
      ],
      "metadata": {
        "id": "HsHKhm-ddFlO"
      }
    },
    {
      "cell_type": "code",
      "source": [
        "list =[10,20,30,40,150,550,30]\n",
        "list2=[]\n",
        "for i in list:\n",
        "  if i %5==0 and i>500:\n",
        "    break\n",
        "  if i %5==0 and i>150:\n",
        "    continue\n",
        "  list2.append(i)\n",
        "list2\n",
        "\n"
      ],
      "metadata": {
        "id": "uypRjy-H-2ZV",
        "outputId": "5cbdc8e7-f9ae-4ce6-937b-05b4c6867c85",
        "colab": {
          "base_uri": "https://localhost:8080/"
        }
      },
      "execution_count": 35,
      "outputs": [
        {
          "output_type": "execute_result",
          "data": {
            "text/plain": [
              "[10, 20, 30, 40, 150]"
            ]
          },
          "metadata": {},
          "execution_count": 35
        }
      ]
    },
    {
      "cell_type": "code",
      "source": [
        "# write code here \n"
      ],
      "metadata": {
        "id": "v2hJm5ArOhrD",
        "colab": {
          "base_uri": "https://localhost:8080/"
        },
        "outputId": "3d774468-8d0b-4910-8669-9c0156deb224"
      },
      "execution_count": null,
      "outputs": [
        {
          "output_type": "stream",
          "name": "stdout",
          "text": [
            "[10, 20, 30, 40, 150]\n"
          ]
        }
      ]
    },
    {
      "cell_type": "markdown",
      "source": [
        "###10 - Python program to swap two number without using third variable\n"
      ],
      "metadata": {
        "id": "LeBZvhNhdqiN"
      }
    },
    {
      "cell_type": "code",
      "source": [
        "x=5.4\n",
        "y=10.3\n",
        "x=x+y\n",
        "y=x-y\n",
        "x=x-y\n",
        "print(x)\n",
        "print(y)"
      ],
      "metadata": {
        "id": "0aH3BtovF8Ob",
        "outputId": "7ba53f9e-fbde-474a-99bd-c5951f483b56",
        "colab": {
          "base_uri": "https://localhost:8080/"
        }
      },
      "execution_count": 37,
      "outputs": [
        {
          "output_type": "stream",
          "name": "stdout",
          "text": [
            "10.3\n",
            "5.4\n"
          ]
        }
      ]
    },
    {
      "cell_type": "code",
      "source": [
        "# write code here \n"
      ],
      "metadata": {
        "id": "_Co7vrCLH4Hr",
        "colab": {
          "base_uri": "https://localhost:8080/"
        },
        "outputId": "6d6abb8b-6c7e-499f-b3bd-1ff921ea9ce6"
      },
      "execution_count": null,
      "outputs": [
        {
          "output_type": "stream",
          "name": "stdout",
          "text": [
            "Before swapping: \n",
            "Value of x :  5.4  and y :  10.3\n",
            "After swapping: \n",
            "Value of x :  10.3  and y :  5.4\n"
          ]
        }
      ]
    },
    {
      "cell_type": "markdown",
      "source": [
        "###11-Write a program to find how many times substring “Emma” appears in the given string.\n",
        "\n",
        "Given:\n",
        "str_x = \"Emma is good developer. Emma is a writer\"\n",
        "\n"
      ],
      "metadata": {
        "id": "gDQLbK5nPYnm"
      }
    },
    {
      "cell_type": "code",
      "source": [
        "str_x = \"Emma is good developer. Emma is a writer\"\n",
        "str_x.count(\"Emma\")"
      ],
      "metadata": {
        "id": "1RChtlVpHtyP",
        "outputId": "3f995e15-7e04-436c-e749-0f9f5805510b",
        "colab": {
          "base_uri": "https://localhost:8080/"
        }
      },
      "execution_count": 39,
      "outputs": [
        {
          "output_type": "execute_result",
          "data": {
            "text/plain": [
              "2"
            ]
          },
          "metadata": {},
          "execution_count": 39
        }
      ]
    },
    {
      "cell_type": "code",
      "execution_count": null,
      "metadata": {
        "id": "lNUeYT3GcY5d",
        "colab": {
          "base_uri": "https://localhost:8080/"
        },
        "outputId": "7a893290-2370-4f6e-a970-d785bb8969d8"
      },
      "outputs": [
        {
          "output_type": "stream",
          "name": "stdout",
          "text": [
            "2\n"
          ]
        }
      ],
      "source": [
        "#Write code here\n"
      ]
    },
    {
      "cell_type": "markdown",
      "source": [
        "###12-Use the print() function to format the given words in the mentioned format. Display the ** separator between each string.\n",
        "\n",
        "Expected Output:\n",
        "\n",
        "For example: print('Name', 'Is', 'James') will display Name**Is**James"
      ],
      "metadata": {
        "id": "gMRvFepEQCEv"
      }
    },
    {
      "cell_type": "code",
      "source": [
        "print('Name', 'Is', 'James',sep=\"**\")"
      ],
      "metadata": {
        "id": "ERGVKNhiI_pW",
        "outputId": "14bdb295-e51c-432f-d875-c9a05b08bfd0",
        "colab": {
          "base_uri": "https://localhost:8080/"
        }
      },
      "execution_count": 42,
      "outputs": [
        {
          "output_type": "stream",
          "name": "stdout",
          "text": [
            "Name**Is**James\n"
          ]
        }
      ]
    },
    {
      "cell_type": "code",
      "source": [
        "#Write code here\n",
        "# For example: print('Name', 'Is', 'mohammed') will display \n",
        "#   Name**Is**James\n"
      ],
      "metadata": {
        "id": "Mn_TYAUkQOvq",
        "colab": {
          "base_uri": "https://localhost:8080/"
        },
        "outputId": "ae4abe28-35ca-4841-9164-72f227e4095a"
      },
      "execution_count": null,
      "outputs": [
        {
          "output_type": "stream",
          "name": "stdout",
          "text": [
            "Name**Is**mohammed\n"
          ]
        }
      ]
    },
    {
      "cell_type": "markdown",
      "source": [
        "###13- Display float number with 2 decimal places using print()\n",
        "\n",
        "input : 458.541315\n",
        "output : 458.54"
      ],
      "metadata": {
        "id": "I4BuJ7NmQeLx"
      }
    },
    {
      "cell_type": "code",
      "source": [
        "print(round(458.541315,2))"
      ],
      "metadata": {
        "id": "W1QMev3_J-JH",
        "outputId": "0b6be0b9-70ad-46e5-f633-99d5c42b9513",
        "colab": {
          "base_uri": "https://localhost:8080/"
        }
      },
      "execution_count": 44,
      "outputs": [
        {
          "output_type": "stream",
          "name": "stdout",
          "text": [
            "458.54\n"
          ]
        }
      ]
    },
    {
      "cell_type": "code",
      "source": [
        "\n",
        "#Write code here\n"
      ],
      "metadata": {
        "colab": {
          "base_uri": "https://localhost:8080/"
        },
        "id": "SBCT3_yKQgPq",
        "outputId": "d891ea83-7c28-48ca-8db3-8c10db1e1ee7"
      },
      "execution_count": null,
      "outputs": [
        {
          "output_type": "stream",
          "name": "stdout",
          "text": [
            "458.54\n"
          ]
        }
      ]
    },
    {
      "cell_type": "markdown",
      "source": [
        "###14- The given tuple is a nested tuple. write a Python program to print the value 20.\n",
        "tuple1 = (\"Orange\", [10, 20, 30], (5, 15, 25))"
      ],
      "metadata": {
        "id": "AZA-GdvgRK4P"
      }
    },
    {
      "cell_type": "code",
      "source": [
        "tuple1 = (\"Orange\", [10, 20, 30], (5, 15, 25))\n",
        "tuple1[1][1]"
      ],
      "metadata": {
        "id": "aKnVC8PLKWb2",
        "outputId": "e38d1115-7cf7-40b5-8909-b9d6a5e83458",
        "colab": {
          "base_uri": "https://localhost:8080/"
        }
      },
      "execution_count": 48,
      "outputs": [
        {
          "output_type": "execute_result",
          "data": {
            "text/plain": [
              "20"
            ]
          },
          "metadata": {},
          "execution_count": 48
        }
      ]
    },
    {
      "cell_type": "code",
      "source": [
        "#Write code here\n"
      ],
      "metadata": {
        "colab": {
          "base_uri": "https://localhost:8080/"
        },
        "id": "QbajbRgKRO5G",
        "outputId": "21ea2616-bfbe-42a7-cdb4-1953ab235f33"
      },
      "execution_count": null,
      "outputs": [
        {
          "output_type": "stream",
          "name": "stdout",
          "text": [
            "20\n"
          ]
        }
      ]
    },
    {
      "cell_type": "markdown",
      "source": [
        "###15- Swap two tuples in Python\n",
        "tuple1 = (11, 22)\n",
        "tuple2 = (99, 88)"
      ],
      "metadata": {
        "id": "zcjb4f1qReoR"
      }
    },
    {
      "cell_type": "code",
      "source": [
        "tuple1 = (11, 22) \n",
        "tuple2 = (99, 88)\n",
        "tuple1,tuple2=tuple2,tuple1\n",
        "print(\"tuple2 =\"+str(tuple2))\n",
        "print(\"tuple1 =\"+str(tuple1))"
      ],
      "metadata": {
        "id": "WFWjsXHiKuzI",
        "outputId": "4aec0e69-8053-462d-c909-bcbaadb6b47c",
        "colab": {
          "base_uri": "https://localhost:8080/"
        }
      },
      "execution_count": 60,
      "outputs": [
        {
          "output_type": "stream",
          "name": "stdout",
          "text": [
            "tuple2 =(11, 22)\n",
            "tuple1 =(99, 88)\n"
          ]
        }
      ]
    },
    {
      "cell_type": "code",
      "source": [
        "#Write code here\n"
      ],
      "metadata": {
        "colab": {
          "base_uri": "https://localhost:8080/"
        },
        "id": "PxqzyyCQRh_f",
        "outputId": "b6a7be47-86ae-40a0-ea74-b791ae104aa4"
      },
      "execution_count": null,
      "outputs": [
        {
          "output_type": "stream",
          "name": "stdout",
          "text": [
            "tuple2 =  (11, 22)\n",
            "tuple1 =  (99, 88)\n"
          ]
        }
      ]
    },
    {
      "cell_type": "markdown",
      "source": [
        "###16 - Write a program to remove the item present at index 4 and add it to the 2nd position and at the end of the list.\n",
        "Given:\n",
        "\n",
        "list1 = [54, 44, 27, 79, 91, 41]\n",
        "\n",
        "output:\n",
        "\n",
        "\n",
        "```\n",
        "List After removing element at index 4  [34, 54, 67, 89, 43, 94]\n",
        "List after Adding element at index 2  [34, 54, 11, 67, 89, 43, 94]\n",
        "List after Adding element at last  [34, 54, 11, 67, 89, 43, 94, 11]\n",
        "```\n",
        "\n"
      ],
      "metadata": {
        "id": "merS0wFZSLiD"
      }
    },
    {
      "cell_type": "code",
      "source": [
        "Original_list=[34, 54, 67, 89, 11, 43, 94]\n",
        "x=Original_list.pop(4)\n",
        "Original_list.insert(2,x)\n",
        "Original_list.append(x)\n",
        "Original_list\n"
      ],
      "metadata": {
        "id": "nceFbGnxik4R",
        "outputId": "103ef5ee-8539-45f3-c22a-48640d090153",
        "colab": {
          "base_uri": "https://localhost:8080/"
        }
      },
      "execution_count": 62,
      "outputs": [
        {
          "output_type": "execute_result",
          "data": {
            "text/plain": [
              "[34, 54, 11, 67, 89, 43, 94, 11]"
            ]
          },
          "metadata": {},
          "execution_count": 62
        }
      ]
    },
    {
      "cell_type": "code",
      "source": [
        "#Write code here\n"
      ],
      "metadata": {
        "colab": {
          "base_uri": "https://localhost:8080/"
        },
        "id": "-LiZ6F9RSWwj",
        "outputId": "a8733bea-d25c-45b2-b659-226fee099f8b"
      },
      "execution_count": null,
      "outputs": [
        {
          "output_type": "stream",
          "name": "stdout",
          "text": [
            "Original list  [34, 54, 67, 89, 11, 43, 94]\n",
            "List After removing element at index 4  [34, 54, 67, 89, 43, 94]\n",
            "List after Adding element at index 2  [34, 54, 11, 67, 89, 43, 94]\n",
            "List after Adding element at last  [34, 54, 11, 67, 89, 43, 94, 11]\n"
          ]
        }
      ]
    },
    {
      "cell_type": "markdown",
      "source": [
        "###17- Convert two lists into a dictionary\n",
        "####input :\n",
        "#####keys = ['Ten', 'Twenty', 'Thirty']\n",
        "#####values = [10, 20, 30]\n",
        "\n",
        "####output: {'Ten': 10, 'Twenty': 20, 'Thirty': 30}\n",
        "\n"
      ],
      "metadata": {
        "id": "G2GEmbxWTCNl"
      }
    },
    {
      "cell_type": "code",
      "source": [
        "dic={\"key1\":1,\"key2\":2}\n",
        "dic[\"key1\"]"
      ],
      "metadata": {
        "id": "7PP-qXZilSBf",
        "outputId": "40723534-496a-412c-c86b-2aeb053c68b1",
        "colab": {
          "base_uri": "https://localhost:8080/"
        }
      },
      "execution_count": 69,
      "outputs": [
        {
          "output_type": "execute_result",
          "data": {
            "text/plain": [
              "1"
            ]
          },
          "metadata": {},
          "execution_count": 69
        }
      ]
    },
    {
      "cell_type": "code",
      "source": [
        "dic={}\n",
        "keys = ['Ten', 'Twenty', 'Thirty']\n",
        "values = [10, 20, 30]\n",
        "for i in range(len(keys)):\n",
        "  dic[keys[i]]=values[i]\n",
        "dic\n"
      ],
      "metadata": {
        "id": "JFBym34djtkp",
        "outputId": "332a90f9-79ae-4ab2-fe8f-809b39b1b313",
        "colab": {
          "base_uri": "https://localhost:8080/"
        }
      },
      "execution_count": 71,
      "outputs": [
        {
          "output_type": "execute_result",
          "data": {
            "text/plain": [
              "{'Ten': 10, 'Twenty': 20, 'Thirty': 30}"
            ]
          },
          "metadata": {},
          "execution_count": 71
        }
      ]
    },
    {
      "cell_type": "code",
      "source": [
        "#Write code here\n"
      ],
      "metadata": {
        "colab": {
          "base_uri": "https://localhost:8080/"
        },
        "id": "IfF-XNGSTR3k",
        "outputId": "6bbe1a4e-52f0-4a1d-8021-8ba322afe94b"
      },
      "execution_count": null,
      "outputs": [
        {
          "output_type": "stream",
          "name": "stdout",
          "text": [
            "{'Ten': 10, 'Twenty': 20, 'Thirty': 30}\n"
          ]
        }
      ]
    },
    {
      "cell_type": "markdown",
      "source": [
        "###18- Write a program to use string.format() method to format the following three variables as per the expected output\n",
        "###input: \n",
        "####totalMoney = 1000\n",
        "####quantity = 3\n",
        "####price = 450\n",
        "\n",
        "###output:\n",
        "I have 1000 dollars so I can buy 3 football for 450.00 dollars.\n"
      ],
      "metadata": {
        "id": "R8XY76PTUriF"
      }
    },
    {
      "cell_type": "code",
      "source": [
        "totalMoney = 1000\n",
        "quantity = 3\n",
        "price = 450\n",
        "txt=\"I have {totalMoney} dollars so I can buy {quantity} football for {price} dollars.\".format(totalMoney = 1000,quantity = 3,price = 450)\n",
        "txt"
      ],
      "metadata": {
        "id": "ypDpfwgvtDLd",
        "outputId": "b43c3f22-aefc-48fb-d1e9-7a1fddea69fd",
        "colab": {
          "base_uri": "https://localhost:8080/",
          "height": 35
        }
      },
      "execution_count": 98,
      "outputs": [
        {
          "output_type": "execute_result",
          "data": {
            "text/plain": [
              "'I have 1000 dollars so I can buy 3 football for 450 dollars.'"
            ],
            "application/vnd.google.colaboratory.intrinsic+json": {
              "type": "string"
            }
          },
          "metadata": {},
          "execution_count": 98
        }
      ]
    },
    {
      "cell_type": "code",
      "source": [
        "#Write code here\n"
      ],
      "metadata": {
        "colab": {
          "base_uri": "https://localhost:8080/"
        },
        "id": "ZtXWiS4BU7qj",
        "outputId": "8a690ff6-ef56-4b1d-fa7e-ee6e62bf8d5a"
      },
      "execution_count": null,
      "outputs": [
        {
          "output_type": "stream",
          "name": "stdout",
          "text": [
            "I have 1000 dollars so I can buy 3 football for 450.00 dollars.\n"
          ]
        }
      ]
    },
    {
      "cell_type": "markdown",
      "source": [
        "###19- Write a program to add item 7000 after 6000 in the following Python List\n",
        "\n",
        "Given:\n",
        "\n",
        "list1 = [10, 20, [300, 400, [5000, 6000], 500], 30, 40]\n",
        "\n",
        "\n",
        " output:\n",
        "\n",
        "[10, 20, [300, 400, [5000, 6000, 7000], 500], 30, 40]"
      ],
      "metadata": {
        "id": "SmVoP5xyVns1"
      }
    },
    {
      "cell_type": "code",
      "source": [
        "list1 = [10, 20, [300, 400, [5000, 6000], 500], 30, 40]\n",
        "list1[2][2].append(7000)\n",
        "list1"
      ],
      "metadata": {
        "id": "1tqMSQoJoHC9",
        "outputId": "cd6f9044-06a4-4cb2-bccb-7a7cec16ec8a",
        "colab": {
          "base_uri": "https://localhost:8080/"
        }
      },
      "execution_count": 96,
      "outputs": [
        {
          "output_type": "execute_result",
          "data": {
            "text/plain": [
              "[10, 20, [300, 400, [5000, 6000, 7000], 500], 30, 40]"
            ]
          },
          "metadata": {},
          "execution_count": 96
        }
      ]
    },
    {
      "cell_type": "code",
      "source": [
        "#Write  code here \n"
      ],
      "metadata": {
        "colab": {
          "base_uri": "https://localhost:8080/"
        },
        "id": "IvAnYaSFV1XT",
        "outputId": "1a8c200c-d89b-4195-d0ac-4cbe528916d3"
      },
      "execution_count": null,
      "outputs": [
        {
          "output_type": "stream",
          "name": "stdout",
          "text": [
            "[10, 20, [300, 400, [5000, 6000, 7000], 500], 30, 40]\n"
          ]
        }
      ]
    },
    {
      "cell_type": "markdown",
      "source": [
        "###20 -Return a new set of identical items from two sets\n",
        "Given:\n",
        "\n",
        "set1 = {10, 20, 30, 40, 50}\n",
        "set2 = {30, 40, 50, 60, 70}\n",
        "\n",
        "output:\n",
        "\n",
        "{40, 50, 30}"
      ],
      "metadata": {
        "id": "ZPej1106WhjB"
      }
    },
    {
      "cell_type": "code",
      "source": [
        "set1 = {10, 20, 30, 40, 50}\n",
        "set2 = {30, 40, 50, 60, 70}\n",
        "set2.intersection(set1)"
      ],
      "metadata": {
        "id": "ykWe21OEnSuk",
        "outputId": "2e154dea-7ead-493b-a3f0-54aa84797099",
        "colab": {
          "base_uri": "https://localhost:8080/"
        }
      },
      "execution_count": 74,
      "outputs": [
        {
          "output_type": "execute_result",
          "data": {
            "text/plain": [
              "{30, 40, 50}"
            ]
          },
          "metadata": {},
          "execution_count": 74
        }
      ]
    },
    {
      "cell_type": "code",
      "source": [
        "#Write  code here \n"
      ],
      "metadata": {
        "colab": {
          "base_uri": "https://localhost:8080/"
        },
        "id": "BuT3HDBrWl3H",
        "outputId": "5be5f3c3-9fa6-4ae1-c8ed-194f3d139de7"
      },
      "execution_count": null,
      "outputs": [
        {
          "output_type": "stream",
          "name": "stdout",
          "text": [
            "{40, 50, 30}\n"
          ]
        }
      ]
    },
    {
      "cell_type": "markdown",
      "source": [
        "#Done 😍"
      ],
      "metadata": {
        "id": "PPzth6AyY3LW"
      }
    }
  ]
}